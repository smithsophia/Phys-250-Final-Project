{
 "cells": [
  {
   "cell_type": "markdown",
   "metadata": {},
   "source": [
    "1.\tMake a 2D array (matrix) \n",
    "\n",
    "1.\tWill fill with 0s and 1s (0= dead, 1= alive)\n",
    "1.   Want method to set initial starting position. \n",
    "1.  Save matrices with known stable initial position. \n",
    "1.  Have ways to fill random matrix at different % alive. (should just be a small change from ising model)\n",
    "1.  Need to impose infinite boundaries- wrap the array\n",
    "1.  Write a function that counts up the population alive \n",
    "1.  Write function that tells me how many neighboring cells are alive\n",
    "1.  From this write flipping function\n",
    "1.  Only look at cells that didn’t change previous time and who’s neighbors didn’t change \n",
    "1.  Flip cells according to the rules of life (do this once?)\n",
    "1.  Write a function to run this T number of times. \n",
    "1.  Graph the change in population over iterations. \n",
    "1.  Will this reach an equilibrium? \n",
    "1.  Graph grid as it changes, save them some way to make an animation. \n"
   ]
  },
  {
   "cell_type": "code",
   "execution_count": 1,
   "metadata": {},
   "outputs": [],
   "source": [
    "# Import the usual numpy and matplotlib libraries for numerical operations and plotting\n",
    "import numpy as np\n",
    "import matplotlib.pyplot as plt\n",
    "from numpy import random as rng"
   ]
  },
  {
   "cell_type": "code",
   "execution_count": 2,
   "metadata": {},
   "outputs": [],
   "source": [
    "def normallattice(N, M, value=0):\n",
    "    return np.full((N, M), value)"
   ]
  },
  {
   "cell_type": "code",
   "execution_count": 3,
   "metadata": {},
   "outputs": [
    {
     "name": "stdout",
     "output_type": "stream",
     "text": [
      "[[1 1 0 0 0]\n",
      " [1 0 1 1 0]\n",
      " [0 1 1 1 0]\n",
      " [1 1 0 0 0]\n",
      " [0 0 1 1 1]]\n"
     ]
    }
   ],
   "source": [
    "def randomlattice(N, M,Lp):\n",
    "    return rng.choice((0, 1), (N, M), p=[1-Lp, Lp])\n",
    "print(randomlattice(5,5,.5))"
   ]
  },
  {
   "cell_type": "markdown",
   "metadata": {},
   "source": [
    "Now I need to figure out a way how to set a matrix with a certain level of life. "
   ]
  },
  {
   "cell_type": "code",
   "execution_count": 92,
   "metadata": {},
   "outputs": [
    {
     "name": "stdout",
     "output_type": "stream",
     "text": [
      "None\n"
     ]
    },
    {
     "data": {
      "image/png": "[encoded data removed]",
      "text/plain": [
       "<Figure size 432x288 with 1 Axes>"
      ]
     },
     "metadata": {
      "needs_background": "light"
     },
     "output_type": "display_data"
    }
   ],
   "source": [
    "harvest = randomlattice(5,5,.5) #set lattice \n",
    "def plotlattice(lattice): \n",
    "    N= len(lattice)\n",
    "    M= len(lattice[0])\n",
    "    fig, ax = plt.subplots()\n",
    "    im = ax.imshow(lattice)\n",
    "    #for i in range(N):\n",
    "     #   for j in range(M):\n",
    "      #      text = ax.text(j, i,  lattice[i, j],\n",
    "                   #    ha=\"center\", va=\"center\", color=\"w\")\n",
    "    ax.set_title(\"Plot of Spin Up- Spin Down Lattice, Colorized\")\n",
    "    fig.tight_layout()\n",
    "    plt.savefig('randomplot.jpg')\n",
    "print( plotlattice(harvest5))"
   ]
  },
  {
   "cell_type": "code",
   "execution_count": 94,
   "metadata": {},
   "outputs": [
    {
     "name": "stdout",
     "output_type": "stream",
     "text": [
      "None\n"
     ]
    },
    {
     "data": {
      "image/png": "[encoded data removed]",
      "text/plain": [
       "<Figure size 432x288 with 1 Axes>"
      ]
     },
     "metadata": {
      "needs_background": "light"
     },
     "output_type": "display_data"
    }
   ],
   "source": [
    "harvest5 = randomlattice(5,5,.5) #set lattice \n",
    "def plotlatticesave(lattice,reps): \n",
    "    N= len(lattice)\n",
    "    M= len(lattice[0])\n",
    "    fig, ax = plt.subplots()\n",
    "    im = ax.imshow(lattice)\n",
    "    #for i in range(N):\n",
    "     #   for j in range(M):\n",
    "      #      text = ax.text(j, i,  lattice[i, j],\n",
    "                   #    ha=\"center\", va=\"center\", color=\"w\")\n",
    "    ax.set_title(\"Plot of Spin Up- Spin Down Lattice, Colorized\")\n",
    "    fig.tight_layout()\n",
    "    for i in range(reps):\n",
    "        name = 'mylifeplot' + str(i) +'.jpg'\n",
    "        plt.savefig(name)\n",
    "    \n",
    "print( plotlatticesave(harvest5,5))"
   ]
  },
  {
   "cell_type": "code",
   "execution_count": 5,
   "metadata": {},
   "outputs": [
    {
     "name": "stdout",
     "output_type": "stream",
     "text": [
      "14\n"
     ]
    }
   ],
   "source": [
    "def Maggy(lattice):#is this the sum of every particle in the lattice \n",
    "    N= len(lattice)\n",
    "    M= len(lattice[0])\n",
    "    total=0\n",
    "    for i in range(N):\n",
    "        for j in range(M):\n",
    "            magnt=lattice[i][j]\n",
    "            total+= magnt     \n",
    "    return total #Returns M\n",
    "\n",
    "print(Maggy(harvest))"
   ]
  },
  {
   "cell_type": "code",
   "execution_count": 6,
   "metadata": {},
   "outputs": [
    {
     "name": "stdout",
     "output_type": "stream",
     "text": [
      "[5, array([[0, 1, 1, 1, 0],\n",
      "       [1, 1, 0, 1, 0],\n",
      "       [0, 1, 1, 1, 1],\n",
      "       [0, 0, 1, 0, 0],\n",
      "       [0, 0, 1, 1, 1]]), 1]\n"
     ]
    }
   ],
   "source": [
    "def neighborsSum(lattice, i, j):\n",
    "    N= len(lattice)\n",
    "    M= len(lattice[0])\n",
    "    pot=lattice[i][j]\n",
    "    summy= np.sum([lattice[(i+1) % N][j], lattice[i][(j+1) % M], lattice[(i-1) % N][j], lattice[i][(j-1) % M], lattice[(i+1) % N][(j+1) % M],lattice[(i+1) % N][(j-1) % M], lattice[(i-1) % N][(j-1) % M],lattice[(i-1) % N][(j+1) % M]] )\n",
    "    return [summy, lattice, pot] \n",
    "                  \n",
    "print(neighborsSum(harvest , 2,2))\n"
   ]
  },
  {
   "cell_type": "markdown",
   "metadata": {},
   "source": [
    "Next up is going to be a function that flips one cell if the rules tells it to. \n",
    "\n",
    "Any live cell with fewer than two live neighbours dies, as if by underpopulation.\n",
    "Any live cell with two or three live neighbours lives on to the next generation.\n",
    "Any live cell with more than three live neighbours dies, as if by overpopulation.\n",
    "Any dead cell with exactly three live neighbours becomes a live cell, as if by reproduction.\n",
    "    1. to do incorperate the diagonals. (Done)\n",
    "    2. "
   ]
  },
  {
   "cell_type": "code",
   "execution_count": 7,
   "metadata": {},
   "outputs": [
    {
     "name": "stdout",
     "output_type": "stream",
     "text": [
      "0\n"
     ]
    }
   ],
   "source": [
    "\n",
    "def LifeOne(lattice, x, y):\n",
    "    tree=lattice\n",
    "    if tree[x][y] == 1 and  neighborsSum(tree, x, y)[0]<2 :\n",
    "        #print('cell dies by underpopulation')\n",
    "        return 0    \n",
    "    elif tree[x][y] == 1 and neighborsSum(tree, x, y)[0]> 3:\n",
    "        #print('cell dies by overpopulation')\n",
    "        return 0 \n",
    "       \n",
    "    elif tree[x][y] == 0 and neighborsSum(tree, x, y)[0]>=3:\n",
    "        #print('regrowth')\n",
    "        return 1\n",
    "    else:\n",
    "        #print('nothing')\n",
    "        return tree[x][y]\n",
    "\n",
    "print(LifeOne(harvest, 2,2))\n",
    "        "
   ]
  },
  {
   "cell_type": "markdown",
   "metadata": {},
   "source": [
    "Now I need something that does this for every position.\n",
    "Oh this is hard because I want this to work for every point in the og lattice at the same time. "
   ]
  },
  {
   "cell_type": "code",
   "execution_count": 8,
   "metadata": {},
   "outputs": [
    {
     "name": "stdout",
     "output_type": "stream",
     "text": [
      "[[1. 0. 0. 0. 1.]\n",
      " [0. 0. 1. 0. 1.]\n",
      " [1. 0. 0. 0. 1.]\n",
      " [1. 1. 0. 1. 1.]\n",
      " [0. 1. 0. 0. 1.]]\n"
     ]
    }
   ],
   "source": [
    "def multiLife(lattice):\n",
    "    #print(lattice)\n",
    "    #print( plotlattice(harvest))\n",
    "    #print('I am running this')\n",
    "    N= len(lattice)\n",
    "    M= len(lattice[0])\n",
    "    tree=lattice \n",
    "    newtree= np.zeros((N,M))\n",
    "    for i in range(N):\n",
    "        for j in range(M):\n",
    "            newtree[i][j]=LifeOne(tree, i, j)#we will just build a new one not change the old one. \n",
    "            #print(i, j , LifeOne(tree, i, j))\n",
    "    #print( plotlattice(newtree))\n",
    "    return(newtree)\n",
    "\n",
    "print(multiLife(harvest))\n",
    "\n",
    "\n",
    "    "
   ]
  },
  {
   "cell_type": "code",
   "execution_count": 9,
   "metadata": {},
   "outputs": [],
   "source": [
    "new=randomlattice(6,6,.5)\n",
    "#print('new')\n",
    "#print(new)\n",
    "#print('once')\n",
    "#print(multiLife(lattice))\n",
    "\n",
    "def somuchlife(lattice, reps):\n",
    "    N= len(lattice)\n",
    "    M= len(lattice[0])\n",
    "    E= np.zeros(reps)\n",
    "    \n",
    "    lifes= np.zeros((reps, N, M))\n",
    "    lifes[0]=(lattice)\n",
    "    E[0]= Maggy(lattice)\n",
    "    for i in range(1, reps):\n",
    "\n",
    "        lattice=(multiLife(lattice))\n",
    "        lifes[i]=lattice\n",
    "        E[i]=Maggy(lattice)\n",
    "        \n",
    "        #print(plotlattice(lattice))\n",
    "    return(E, lifes)\n",
    "    \n",
    "#print(somuchlife(new, 10 ))    \n"
   ]
  },
  {
   "cell_type": "code",
   "execution_count": 10,
   "metadata": {},
   "outputs": [
    {
     "ename": "KeyboardInterrupt",
     "evalue": "",
     "output_type": "error",
     "traceback": [
      "\u001b[1;31m---------------------------------------------------------------------------\u001b[0m",
      "\u001b[1;31mKeyboardInterrupt\u001b[0m                         Traceback (most recent call last)",
      "\u001b[1;32m<ipython-input-10-29946caaaafe>\u001b[0m in \u001b[0;36m<module>\u001b[1;34m\u001b[0m\n\u001b[0;32m      1\u001b[0m \u001b[0mone\u001b[0m\u001b[1;33m=\u001b[0m\u001b[0mrandomlattice\u001b[0m\u001b[1;33m(\u001b[0m\u001b[1;36m99\u001b[0m\u001b[1;33m,\u001b[0m\u001b[1;36m99\u001b[0m\u001b[1;33m,\u001b[0m\u001b[1;36m.1\u001b[0m\u001b[1;33m)\u001b[0m\u001b[1;33m\u001b[0m\u001b[1;33m\u001b[0m\u001b[0m\n\u001b[0;32m      2\u001b[0m \u001b[0mfig\u001b[0m \u001b[1;33m=\u001b[0m \u001b[0mplt\u001b[0m\u001b[1;33m.\u001b[0m\u001b[0mfigure\u001b[0m\u001b[1;33m(\u001b[0m\u001b[1;33m)\u001b[0m\u001b[1;33m\u001b[0m\u001b[1;33m\u001b[0m\u001b[0m\n\u001b[1;32m----> 3\u001b[1;33m \u001b[0msolid\u001b[0m\u001b[1;33m=\u001b[0m\u001b[0msomuchlife\u001b[0m\u001b[1;33m(\u001b[0m\u001b[0mone\u001b[0m\u001b[1;33m,\u001b[0m \u001b[1;36m100\u001b[0m\u001b[1;33m)\u001b[0m\u001b[1;33m\u001b[0m\u001b[1;33m\u001b[0m\u001b[0m\n\u001b[0m\u001b[0;32m      4\u001b[0m \u001b[0mprint\u001b[0m\u001b[1;33m(\u001b[0m\u001b[1;34m'i am solid'\u001b[0m\u001b[1;33m)\u001b[0m\u001b[1;33m\u001b[0m\u001b[1;33m\u001b[0m\u001b[0m\n\u001b[0;32m      5\u001b[0m \u001b[0mx\u001b[0m\u001b[1;33m=\u001b[0m\u001b[0msolid\u001b[0m\u001b[1;33m[\u001b[0m\u001b[1;36m0\u001b[0m\u001b[1;33m]\u001b[0m\u001b[1;33m\u001b[0m\u001b[1;33m\u001b[0m\u001b[0m\n",
      "\u001b[1;32m<ipython-input-9-f634b15b42e1>\u001b[0m in \u001b[0;36msomuchlife\u001b[1;34m(lattice, reps)\u001b[0m\n\u001b[0;32m     15\u001b[0m     \u001b[1;32mfor\u001b[0m \u001b[0mi\u001b[0m \u001b[1;32min\u001b[0m \u001b[0mrange\u001b[0m\u001b[1;33m(\u001b[0m\u001b[1;36m1\u001b[0m\u001b[1;33m,\u001b[0m \u001b[0mreps\u001b[0m\u001b[1;33m)\u001b[0m\u001b[1;33m:\u001b[0m\u001b[1;33m\u001b[0m\u001b[1;33m\u001b[0m\u001b[0m\n\u001b[0;32m     16\u001b[0m \u001b[1;33m\u001b[0m\u001b[0m\n\u001b[1;32m---> 17\u001b[1;33m         \u001b[0mlattice\u001b[0m\u001b[1;33m=\u001b[0m\u001b[1;33m(\u001b[0m\u001b[0mmultiLife\u001b[0m\u001b[1;33m(\u001b[0m\u001b[0mlattice\u001b[0m\u001b[1;33m)\u001b[0m\u001b[1;33m)\u001b[0m\u001b[1;33m\u001b[0m\u001b[1;33m\u001b[0m\u001b[0m\n\u001b[0m\u001b[0;32m     18\u001b[0m         \u001b[0mlifes\u001b[0m\u001b[1;33m[\u001b[0m\u001b[0mi\u001b[0m\u001b[1;33m]\u001b[0m\u001b[1;33m=\u001b[0m\u001b[0mlattice\u001b[0m\u001b[1;33m\u001b[0m\u001b[1;33m\u001b[0m\u001b[0m\n\u001b[0;32m     19\u001b[0m         \u001b[0mE\u001b[0m\u001b[1;33m[\u001b[0m\u001b[0mi\u001b[0m\u001b[1;33m]\u001b[0m\u001b[1;33m=\u001b[0m\u001b[0mMaggy\u001b[0m\u001b[1;33m(\u001b[0m\u001b[0mlattice\u001b[0m\u001b[1;33m)\u001b[0m\u001b[1;33m\u001b[0m\u001b[1;33m\u001b[0m\u001b[0m\n",
      "\u001b[1;32m<ipython-input-8-95a2853060fe>\u001b[0m in \u001b[0;36mmultiLife\u001b[1;34m(lattice)\u001b[0m\n\u001b[0;32m      9\u001b[0m     \u001b[1;32mfor\u001b[0m \u001b[0mi\u001b[0m \u001b[1;32min\u001b[0m \u001b[0mrange\u001b[0m\u001b[1;33m(\u001b[0m\u001b[0mN\u001b[0m\u001b[1;33m)\u001b[0m\u001b[1;33m:\u001b[0m\u001b[1;33m\u001b[0m\u001b[1;33m\u001b[0m\u001b[0m\n\u001b[0;32m     10\u001b[0m         \u001b[1;32mfor\u001b[0m \u001b[0mj\u001b[0m \u001b[1;32min\u001b[0m \u001b[0mrange\u001b[0m\u001b[1;33m(\u001b[0m\u001b[0mM\u001b[0m\u001b[1;33m)\u001b[0m\u001b[1;33m:\u001b[0m\u001b[1;33m\u001b[0m\u001b[1;33m\u001b[0m\u001b[0m\n\u001b[1;32m---> 11\u001b[1;33m             \u001b[0mnewtree\u001b[0m\u001b[1;33m[\u001b[0m\u001b[0mi\u001b[0m\u001b[1;33m]\u001b[0m\u001b[1;33m[\u001b[0m\u001b[0mj\u001b[0m\u001b[1;33m]\u001b[0m\u001b[1;33m=\u001b[0m\u001b[0mLifeOne\u001b[0m\u001b[1;33m(\u001b[0m\u001b[0mtree\u001b[0m\u001b[1;33m,\u001b[0m \u001b[0mi\u001b[0m\u001b[1;33m,\u001b[0m \u001b[0mj\u001b[0m\u001b[1;33m)\u001b[0m\u001b[1;31m#we will just build a new one not change the old one.\u001b[0m\u001b[1;33m\u001b[0m\u001b[1;33m\u001b[0m\u001b[0m\n\u001b[0m\u001b[0;32m     12\u001b[0m             \u001b[1;31m#print(i, j , LifeOne(tree, i, j))\u001b[0m\u001b[1;33m\u001b[0m\u001b[1;33m\u001b[0m\u001b[1;33m\u001b[0m\u001b[0m\n\u001b[0;32m     13\u001b[0m     \u001b[1;31m#print( plotlattice(newtree))\u001b[0m\u001b[1;33m\u001b[0m\u001b[1;33m\u001b[0m\u001b[1;33m\u001b[0m\u001b[0m\n",
      "\u001b[1;32m<ipython-input-7-16887f86cba7>\u001b[0m in \u001b[0;36mLifeOne\u001b[1;34m(lattice, x, y)\u001b[0m\n\u001b[0;32m      8\u001b[0m         \u001b[1;32mreturn\u001b[0m \u001b[1;36m0\u001b[0m\u001b[1;33m\u001b[0m\u001b[1;33m\u001b[0m\u001b[0m\n\u001b[0;32m      9\u001b[0m \u001b[1;33m\u001b[0m\u001b[0m\n\u001b[1;32m---> 10\u001b[1;33m     \u001b[1;32melif\u001b[0m \u001b[0mtree\u001b[0m\u001b[1;33m[\u001b[0m\u001b[0mx\u001b[0m\u001b[1;33m]\u001b[0m\u001b[1;33m[\u001b[0m\u001b[0my\u001b[0m\u001b[1;33m]\u001b[0m \u001b[1;33m==\u001b[0m \u001b[1;36m0\u001b[0m \u001b[1;32mand\u001b[0m \u001b[0mneighborsSum\u001b[0m\u001b[1;33m(\u001b[0m\u001b[0mtree\u001b[0m\u001b[1;33m,\u001b[0m \u001b[0mx\u001b[0m\u001b[1;33m,\u001b[0m \u001b[0my\u001b[0m\u001b[1;33m)\u001b[0m\u001b[1;33m[\u001b[0m\u001b[1;36m0\u001b[0m\u001b[1;33m]\u001b[0m\u001b[1;33m>=\u001b[0m\u001b[1;36m3\u001b[0m\u001b[1;33m:\u001b[0m\u001b[1;33m\u001b[0m\u001b[1;33m\u001b[0m\u001b[0m\n\u001b[0m\u001b[0;32m     11\u001b[0m         \u001b[1;31m#print('regrowth')\u001b[0m\u001b[1;33m\u001b[0m\u001b[1;33m\u001b[0m\u001b[1;33m\u001b[0m\u001b[0m\n\u001b[0;32m     12\u001b[0m         \u001b[1;32mreturn\u001b[0m \u001b[1;36m1\u001b[0m\u001b[1;33m\u001b[0m\u001b[1;33m\u001b[0m\u001b[0m\n",
      "\u001b[1;32m<ipython-input-6-67bc0f3e08cd>\u001b[0m in \u001b[0;36mneighborsSum\u001b[1;34m(lattice, i, j)\u001b[0m\n\u001b[0;32m      3\u001b[0m     \u001b[0mM\u001b[0m\u001b[1;33m=\u001b[0m \u001b[0mlen\u001b[0m\u001b[1;33m(\u001b[0m\u001b[0mlattice\u001b[0m\u001b[1;33m[\u001b[0m\u001b[1;36m0\u001b[0m\u001b[1;33m]\u001b[0m\u001b[1;33m)\u001b[0m\u001b[1;33m\u001b[0m\u001b[1;33m\u001b[0m\u001b[0m\n\u001b[0;32m      4\u001b[0m     \u001b[0mpot\u001b[0m\u001b[1;33m=\u001b[0m\u001b[0mlattice\u001b[0m\u001b[1;33m[\u001b[0m\u001b[0mi\u001b[0m\u001b[1;33m]\u001b[0m\u001b[1;33m[\u001b[0m\u001b[0mj\u001b[0m\u001b[1;33m]\u001b[0m\u001b[1;33m\u001b[0m\u001b[1;33m\u001b[0m\u001b[0m\n\u001b[1;32m----> 5\u001b[1;33m     \u001b[0msummy\u001b[0m\u001b[1;33m=\u001b[0m \u001b[0mnp\u001b[0m\u001b[1;33m.\u001b[0m\u001b[0msum\u001b[0m\u001b[1;33m(\u001b[0m\u001b[1;33m[\u001b[0m\u001b[0mlattice\u001b[0m\u001b[1;33m[\u001b[0m\u001b[1;33m(\u001b[0m\u001b[0mi\u001b[0m\u001b[1;33m+\u001b[0m\u001b[1;36m1\u001b[0m\u001b[1;33m)\u001b[0m \u001b[1;33m%\u001b[0m \u001b[0mN\u001b[0m\u001b[1;33m]\u001b[0m\u001b[1;33m[\u001b[0m\u001b[0mj\u001b[0m\u001b[1;33m]\u001b[0m\u001b[1;33m,\u001b[0m \u001b[0mlattice\u001b[0m\u001b[1;33m[\u001b[0m\u001b[0mi\u001b[0m\u001b[1;33m]\u001b[0m\u001b[1;33m[\u001b[0m\u001b[1;33m(\u001b[0m\u001b[0mj\u001b[0m\u001b[1;33m+\u001b[0m\u001b[1;36m1\u001b[0m\u001b[1;33m)\u001b[0m \u001b[1;33m%\u001b[0m \u001b[0mM\u001b[0m\u001b[1;33m]\u001b[0m\u001b[1;33m,\u001b[0m \u001b[0mlattice\u001b[0m\u001b[1;33m[\u001b[0m\u001b[1;33m(\u001b[0m\u001b[0mi\u001b[0m\u001b[1;33m-\u001b[0m\u001b[1;36m1\u001b[0m\u001b[1;33m)\u001b[0m \u001b[1;33m%\u001b[0m \u001b[0mN\u001b[0m\u001b[1;33m]\u001b[0m\u001b[1;33m[\u001b[0m\u001b[0mj\u001b[0m\u001b[1;33m]\u001b[0m\u001b[1;33m,\u001b[0m \u001b[0mlattice\u001b[0m\u001b[1;33m[\u001b[0m\u001b[0mi\u001b[0m\u001b[1;33m]\u001b[0m\u001b[1;33m[\u001b[0m\u001b[1;33m(\u001b[0m\u001b[0mj\u001b[0m\u001b[1;33m-\u001b[0m\u001b[1;36m1\u001b[0m\u001b[1;33m)\u001b[0m \u001b[1;33m%\u001b[0m \u001b[0mM\u001b[0m\u001b[1;33m]\u001b[0m\u001b[1;33m,\u001b[0m \u001b[0mlattice\u001b[0m\u001b[1;33m[\u001b[0m\u001b[1;33m(\u001b[0m\u001b[0mi\u001b[0m\u001b[1;33m+\u001b[0m\u001b[1;36m1\u001b[0m\u001b[1;33m)\u001b[0m \u001b[1;33m%\u001b[0m \u001b[0mN\u001b[0m\u001b[1;33m]\u001b[0m\u001b[1;33m[\u001b[0m\u001b[1;33m(\u001b[0m\u001b[0mj\u001b[0m\u001b[1;33m+\u001b[0m\u001b[1;36m1\u001b[0m\u001b[1;33m)\u001b[0m \u001b[1;33m%\u001b[0m \u001b[0mM\u001b[0m\u001b[1;33m]\u001b[0m\u001b[1;33m,\u001b[0m\u001b[0mlattice\u001b[0m\u001b[1;33m[\u001b[0m\u001b[1;33m(\u001b[0m\u001b[0mi\u001b[0m\u001b[1;33m+\u001b[0m\u001b[1;36m1\u001b[0m\u001b[1;33m)\u001b[0m \u001b[1;33m%\u001b[0m \u001b[0mN\u001b[0m\u001b[1;33m]\u001b[0m\u001b[1;33m[\u001b[0m\u001b[1;33m(\u001b[0m\u001b[0mj\u001b[0m\u001b[1;33m-\u001b[0m\u001b[1;36m1\u001b[0m\u001b[1;33m)\u001b[0m \u001b[1;33m%\u001b[0m \u001b[0mM\u001b[0m\u001b[1;33m]\u001b[0m\u001b[1;33m,\u001b[0m \u001b[0mlattice\u001b[0m\u001b[1;33m[\u001b[0m\u001b[1;33m(\u001b[0m\u001b[0mi\u001b[0m\u001b[1;33m-\u001b[0m\u001b[1;36m1\u001b[0m\u001b[1;33m)\u001b[0m \u001b[1;33m%\u001b[0m \u001b[0mN\u001b[0m\u001b[1;33m]\u001b[0m\u001b[1;33m[\u001b[0m\u001b[1;33m(\u001b[0m\u001b[0mj\u001b[0m\u001b[1;33m-\u001b[0m\u001b[1;36m1\u001b[0m\u001b[1;33m)\u001b[0m \u001b[1;33m%\u001b[0m \u001b[0mM\u001b[0m\u001b[1;33m]\u001b[0m\u001b[1;33m,\u001b[0m\u001b[0mlattice\u001b[0m\u001b[1;33m[\u001b[0m\u001b[1;33m(\u001b[0m\u001b[0mi\u001b[0m\u001b[1;33m-\u001b[0m\u001b[1;36m1\u001b[0m\u001b[1;33m)\u001b[0m \u001b[1;33m%\u001b[0m \u001b[0mN\u001b[0m\u001b[1;33m]\u001b[0m\u001b[1;33m[\u001b[0m\u001b[1;33m(\u001b[0m\u001b[0mj\u001b[0m\u001b[1;33m+\u001b[0m\u001b[1;36m1\u001b[0m\u001b[1;33m)\u001b[0m \u001b[1;33m%\u001b[0m \u001b[0mM\u001b[0m\u001b[1;33m]\u001b[0m\u001b[1;33m]\u001b[0m \u001b[1;33m)\u001b[0m\u001b[1;33m\u001b[0m\u001b[1;33m\u001b[0m\u001b[0m\n\u001b[0m\u001b[0;32m      6\u001b[0m     \u001b[1;32mreturn\u001b[0m \u001b[1;33m[\u001b[0m\u001b[0msummy\u001b[0m\u001b[1;33m,\u001b[0m \u001b[0mlattice\u001b[0m\u001b[1;33m,\u001b[0m \u001b[0mpot\u001b[0m\u001b[1;33m]\u001b[0m\u001b[1;33m\u001b[0m\u001b[1;33m\u001b[0m\u001b[0m\n\u001b[0;32m      7\u001b[0m \u001b[1;33m\u001b[0m\u001b[0m\n",
      "\u001b[1;31mKeyboardInterrupt\u001b[0m: "
     ]
    },
    {
     "data": {
      "text/plain": [
       "<Figure size 432x288 with 0 Axes>"
      ]
     },
     "metadata": {},
     "output_type": "display_data"
    }
   ],
   "source": [
    "one=randomlattice(99,99,.1)\n",
    "fig = plt.figure()\n",
    "solid=somuchlife(one, 100)\n",
    "print('i am solid')\n",
    "x=solid[0] \n",
    "y=np.arange(100)\n",
    "ax = fig.add_subplot(111)\n",
    "ax.plot( y, x, 'k-')\n",
    "ax.set_title('Population vs Time')\n",
    "ax.set_xlabel('Time')\n",
    "ax.set_ylabel('Population')\n",
    "plt.show()"
   ]
  },
  {
   "cell_type": "code",
   "execution_count": null,
   "metadata": {},
   "outputs": [],
   "source": [
    "two=randomlattice(99,99,.2)\n",
    "fig = plt.figure()\n",
    "solid=somuchlife(two, 100)\n",
    "print('i am solid')\n",
    "x=solid[0] \n",
    "y=np.arange(100)\n",
    "ax = fig.add_subplot(111)\n",
    "ax.plot( y, x, 'k-')\n",
    "ax.set_title('Population vs Time')\n",
    "ax.set_xlabel('Time')\n",
    "ax.set_ylabel('Population')\n",
    "plt.show()"
   ]
  },
  {
   "cell_type": "code",
   "execution_count": null,
   "metadata": {},
   "outputs": [],
   "source": [
    "three=randomlattice(99,99,.3)\n",
    "fig = plt.figure()\n",
    "solid=somuchlife(three, 100)\n",
    "print('i am solid')\n",
    "x=solid[0] \n",
    "y=np.arange(100)\n",
    "ax = fig.add_subplot(111)\n",
    "ax.plot( y, x, 'k-')\n",
    "ax.set_title('Population vs Time')\n",
    "ax.set_xlabel('Time')\n",
    "ax.set_ylabel('Population')\n",
    "plt.show()"
   ]
  },
  {
   "cell_type": "code",
   "execution_count": null,
   "metadata": {},
   "outputs": [],
   "source": [
    "four=randomlattice(99,99,.4)\n",
    "fig = plt.figure()\n",
    "solid=somuchlife(four, 100)\n",
    "print('i am solid')\n",
    "x=solid[0] \n",
    "y=np.arange(100)\n",
    "ax = fig.add_subplot(111)\n",
    "ax.plot( y, x, 'k-')\n",
    "ax.set_title('Population vs Time')\n",
    "ax.set_xlabel('Time')\n",
    "ax.set_ylabel('Population')\n",
    "plt.show()"
   ]
  },
  {
   "cell_type": "code",
   "execution_count": null,
   "metadata": {},
   "outputs": [],
   "source": [
    "five=randomlattice(99,99,.5)\n",
    "fig = plt.figure()\n",
    "solid=somuchlife(five, 100)\n",
    "print('i am solid')\n",
    "x=solid[0] \n",
    "y=np.arange(100)\n",
    "ax = fig.add_subplot(111)\n",
    "ax.plot( y, x, 'k-')\n",
    "ax.set_title('Population vs Time')\n",
    "ax.set_xlabel('Time')\n",
    "ax.set_ylabel('Population')\n",
    "plt.show()"
   ]
  },
  {
   "cell_type": "code",
   "execution_count": null,
   "metadata": {},
   "outputs": [],
   "source": [
    "six=randomlattice(99,99,.6)\n",
    "fig = plt.figure()\n",
    "solid=somuchlife(six, 100)\n",
    "print('i am solid')\n",
    "x=solid[0] \n",
    "y=np.arange(100)\n",
    "ax = fig.add_subplot(111)\n",
    "ax.plot( y, x, 'k-')\n",
    "ax.set_title('Population vs Time')\n",
    "ax.set_xlabel('Time')\n",
    "ax.set_ylabel('Population')\n",
    "plt.show()"
   ]
  },
  {
   "cell_type": "code",
   "execution_count": null,
   "metadata": {},
   "outputs": [],
   "source": [
    "seven=randomlattice(99,99,.7)\n",
    "fig = plt.figure()\n",
    "solid=somuchlife(seven, 100)\n",
    "print('i am solid')\n",
    "x=solid[0] \n",
    "y=np.arange(100)\n",
    "ax = fig.add_subplot(111)\n",
    "ax.plot( y, x, 'k-')\n",
    "ax.set_title('Population vs Time')\n",
    "ax.set_xlabel('Time')\n",
    "ax.set_ylabel('Population')\n",
    "plt.show()"
   ]
  },
  {
   "cell_type": "code",
   "execution_count": null,
   "metadata": {},
   "outputs": [],
   "source": [
    "eight=randomlattice(99,99,.8)\n",
    "fig = plt.figure()\n",
    "solid=somuchlife(eight, 100)\n",
    "print('i am solid')\n",
    "x=solid[0] \n",
    "y=np.arange(100)\n",
    "ax = fig.add_subplot(111)\n",
    "ax.plot( y, x, 'k-')\n",
    "ax.set_title('Population vs Time')\n",
    "ax.set_xlabel('Time')\n",
    "ax.set_ylabel('Population')\n",
    "plt.show()"
   ]
  },
  {
   "cell_type": "code",
   "execution_count": null,
   "metadata": {},
   "outputs": [],
   "source": [
    "nine=randomlattice(99,99,.9)\n",
    "fig = plt.figure()\n",
    "solid=somuchlife(nine, 100)\n",
    "print('i am solid')\n",
    "x=solid[0] \n",
    "y=np.arange(100)\n",
    "ax = fig.add_subplot(111)\n",
    "ax.plot( y, x, 'k-')\n",
    "ax.set_title('Population vs Time')\n",
    "ax.set_xlabel('Time')\n",
    "ax.set_ylabel('Population')\n",
    "plt.show()"
   ]
  },
  {
   "cell_type": "code",
   "execution_count": null,
   "metadata": {},
   "outputs": [],
   "source": [
    "ninefive=randomlattice(99,99,.95)\n",
    "fig = plt.figure()\n",
    "solid=somuchlife(ninefive, 100)\n",
    "print('i am solid')\n",
    "x=solid[0] \n",
    "y=np.arange(100)\n",
    "ax = fig.add_subplot(111)\n",
    "ax.plot( y, x, 'k-')\n",
    "ax.set_title('Population vs Time')\n",
    "ax.set_xlabel('Time')\n",
    "ax.set_ylabel('Population')\n",
    "plt.show()"
   ]
  },
  {
   "cell_type": "code",
   "execution_count": null,
   "metadata": {},
   "outputs": [],
   "source": [
    "ninesix=randomlattice(99,99,.96)\n",
    "fig = plt.figure()\n",
    "solid=somuchlife(ninesix, 100)\n",
    "print('i am solid')\n",
    "x=solid[0] \n",
    "y=np.arange(100)\n",
    "ax = fig.add_subplot(111)\n",
    "ax.plot( y, x, 'k-')\n",
    "ax.set_title('Population vs Time')\n",
    "ax.set_xlabel('Time')\n",
    "ax.set_ylabel('Population')\n",
    "plt.show()"
   ]
  },
  {
   "cell_type": "code",
   "execution_count": null,
   "metadata": {},
   "outputs": [],
   "source": [
    "nineeight=randomlattice(99,99,.98)\n",
    "fig = plt.figure()\n",
    "solid=somuchlife(nineeight, 100)\n",
    "print('i am solid')\n",
    "x=solid[0] \n",
    "y=np.arange(100)\n",
    "ax = fig.add_subplot(111)\n",
    "ax.plot( y, x, 'k-')\n",
    "ax.set_title('Population vs Time')\n",
    "ax.set_xlabel('Time')\n",
    "ax.set_ylabel('Population')\n",
    "plt.show()"
   ]
  },
  {
   "cell_type": "code",
   "execution_count": null,
   "metadata": {},
   "outputs": [],
   "source": [
    "ten=randomlattice(99,99,1)\n",
    "fig = plt.figure()\n",
    "solid=somuchlife(ten, 100)\n",
    "print('i am solid')\n",
    "x=solid[0] \n",
    "y=np.arange(100)\n",
    "ax = fig.add_subplot(111)\n",
    "ax.plot( y, x, 'k-')\n",
    "ax.set_title('Population vs Time')\n",
    "ax.set_xlabel('Time')\n",
    "ax.set_ylabel('Population')\n",
    "plt.show()"
   ]
  },
  {
   "cell_type": "code",
   "execution_count": null,
   "metadata": {},
   "outputs": [],
   "source": [
    "newone=randomlattice(99,99,.1)\n",
    "fig = plt.figure()\n",
    "solid=somuchlife(newone, 100)\n",
    "print('i am solid')\n",
    "x=solid[0] \n",
    "y=np.arange(100)\n",
    "ax = fig.add_subplot(111)\n",
    "ax.plot( y, x, 'k-')\n",
    "ax.set_title('Population vs Time')\n",
    "ax.set_xlabel('Time')\n",
    "ax.set_ylabel('Population')\n",
    "plt.show()\n",
    "    "
   ]
  },
  {
   "cell_type": "code",
   "execution_count": null,
   "metadata": {},
   "outputs": [],
   "source": [
    "newtwo=randomlattice(99,99,.2)\n",
    "fig = plt.figure()\n",
    "solid=somuchlife(newtwo, 100)\n",
    "print('i am solid')\n",
    "x=solid[0] \n",
    "y=np.arange(100)\n",
    "ax = fig.add_subplot(111)\n",
    "ax.plot( y, x, 'k-')\n",
    "ax.set_title('Population vs Time')\n",
    "ax.set_xlabel('Time')\n",
    "ax.set_ylabel('Population')\n",
    "plt.show()"
   ]
  },
  {
   "cell_type": "code",
   "execution_count": null,
   "metadata": {},
   "outputs": [],
   "source": [
    "newthree=randomlattice(99,99,.3)\n",
    "fig = plt.figure()\n",
    "solid=somuchlife(newthree, 100)\n",
    "print('i am solid')\n",
    "x=solid[0] \n",
    "y=np.arange(100)\n",
    "ax = fig.add_subplot(111)\n",
    "ax.plot( y, x, 'k-')\n",
    "ax.set_title('Population vs Time')\n",
    "ax.set_xlabel('Time')\n",
    "ax.set_ylabel('Population')\n",
    "plt.show()"
   ]
  },
  {
   "cell_type": "code",
   "execution_count": null,
   "metadata": {},
   "outputs": [],
   "source": [
    "newfour=randomlattice(99,99,.4)\n",
    "fig = plt.figure()\n",
    "solid=somuchlife(newfour, 100)\n",
    "print('i am solid')\n",
    "x=solid[0] \n",
    "y=np.arange(100)\n",
    "ax = fig.add_subplot(111)\n",
    "ax.plot( y, x, 'k-')\n",
    "ax.set_title('Population vs Time')\n",
    "ax.set_xlabel('Time')\n",
    "ax.set_ylabel('Population')\n",
    "plt.show()"
   ]
  },
  {
   "cell_type": "code",
   "execution_count": null,
   "metadata": {},
   "outputs": [],
   "source": [
    "newfive=randomlattice(99,99,.5)\n",
    "fig = plt.figure()\n",
    "solid=somuchlife(newfive, 100)\n",
    "print('i am solid')\n",
    "x=solid[0] \n",
    "y=np.arange(100)\n",
    "ax = fig.add_subplot(111)\n",
    "ax.plot( y, x, 'k-')\n",
    "ax.set_title('Population vs Time')\n",
    "ax.set_xlabel('Time')\n",
    "ax.set_ylabel('Population')\n",
    "plt.show()"
   ]
  },
  {
   "cell_type": "code",
   "execution_count": null,
   "metadata": {},
   "outputs": [],
   "source": [
    "newsix=randomlattice(99,99,.6)\n",
    "fig = plt.figure()\n",
    "solid=somuchlife(newsix, 100)\n",
    "print('i am solid')\n",
    "x=solid[0] \n",
    "y=np.arange(100)\n",
    "ax = fig.add_subplot(111)\n",
    "ax.plot( y, x, 'k-')\n",
    "ax.set_title('Population vs Time')\n",
    "ax.set_xlabel('Time')\n",
    "ax.set_ylabel('Population')\n",
    "plt.show()"
   ]
  },
  {
   "cell_type": "code",
   "execution_count": null,
   "metadata": {},
   "outputs": [],
   "source": [
    "newseven=randomlattice(99,99,.7)\n",
    "fig = plt.figure()\n",
    "solid=somuchlife(newseven, 100)\n",
    "print('i am solid')\n",
    "x=solid[0] \n",
    "y=np.arange(100)\n",
    "ax = fig.add_subplot(111)\n",
    "ax.plot( y, x, 'k-')\n",
    "ax.set_title('Population vs Time')\n",
    "ax.set_xlabel('Time')\n",
    "ax.set_ylabel('Population')\n",
    "plt.show()"
   ]
  },
  {
   "cell_type": "code",
   "execution_count": null,
   "metadata": {},
   "outputs": [],
   "source": [
    "neweight=randomlattice(99,99,.8)\n",
    "fig = plt.figure()\n",
    "solid=somuchlife(neweight, 100)\n",
    "print('i am solid')\n",
    "x=solid[0] \n",
    "y=np.arange(100)\n",
    "ax = fig.add_subplot(111)\n",
    "ax.plot( y, x, 'k-')\n",
    "ax.set_title('Population vs Time')\n",
    "ax.set_xlabel('Time')\n",
    "ax.set_ylabel('Population')\n",
    "plt.show()"
   ]
  },
  {
   "cell_type": "code",
   "execution_count": null,
   "metadata": {},
   "outputs": [],
   "source": [
    "newnine=randomlattice(99,99,.9)\n",
    "fig = plt.figure()\n",
    "solid=somuchlife(newnine, 100)\n",
    "print('i am solid')\n",
    "x=solid[0] \n",
    "y=np.arange(100)\n",
    "ax = fig.add_subplot(111)\n",
    "ax.plot( y, x, 'k-')\n",
    "ax.set_title('Population vs Time')\n",
    "ax.set_xlabel('Time')\n",
    "ax.set_ylabel('Population')\n",
    "plt.show()"
   ]
  },
  {
   "cell_type": "markdown",
   "metadata": {},
   "source": [
    "### Future things to look at: \n",
    "1. Is there a common equilibrium point\n",
    "1. Is there a correlation in the rate it takes to reach equilibirum- would have to think of how to define that exactly, though there definitly is. \n",
    "1. What happens when you start a population \"at equilibrium\""
   ]
  },
  {
   "cell_type": "markdown",
   "metadata": {},
   "source": [
    "Lets try some new code. Timme to make the code for taking an array of percentages, dividing by the sum of them and returning the array of the percentags \n",
    "\n",
    "Wait first I need to make a matrix with randomo numbers from 0 to 1 "
   ]
  },
  {
   "cell_type": "code",
   "execution_count": 11,
   "metadata": {},
   "outputs": [
    {
     "name": "stdout",
     "output_type": "stream",
     "text": [
      "[[0.8245135  0.91949363 0.22112073 0.         0.        ]\n",
      " [0.36422443 0.79623007 0.37674794 0.94098253 0.        ]\n",
      " [0.16773311 0.13667764 0.52951448 0.21004217 0.00982597]\n",
      " [0.         0.         0.         0.         0.89516153]\n",
      " [0.         0.16113135 0.         0.59046077 0.        ]]\n"
     ]
    }
   ],
   "source": [
    "#mylat= randomlattice(5,5,.5)\n",
    "\n",
    "def randomfit(N,M,Lp):\n",
    "    life=randomlattice(N,M,Lp)\n",
    "    total=np.zeros((N, M))\n",
    "    randoms=rng.random_sample((N,M))\n",
    "    for i in range(N):\n",
    "        for j in range(M):\n",
    "            total[i][j] =life[i][j]*randoms[i][j]\n",
    "    return(total)\n",
    "\n",
    "print(randomfit(5,5,.5))"
   ]
  },
  {
   "cell_type": "code",
   "execution_count": 67,
   "metadata": {},
   "outputs": [],
   "source": [
    "def Population(lattice):\n",
    "    N= len(lattice)\n",
    "    M= len(lattice[0])\n",
    "    E=0\n",
    "    for i in range(N):\n",
    "        for j in range(M):\n",
    "            if lattice[i][j]>0:\n",
    "                E+=1\n",
    "    return E"
   ]
  },
  {
   "cell_type": "markdown",
   "metadata": {},
   "source": [
    "So I have a new matrix now. I will next need to make the thing that adds up the probability and makes the new probability "
   ]
  },
  {
   "cell_type": "code",
   "execution_count": 45,
   "metadata": {},
   "outputs": [
    {
     "name": "stdout",
     "output_type": "stream",
     "text": [
      "[0.12195122 0.02439024 0.04878049 0.07317073 0.09756098 0.12195122\n",
      " 0.14634146 0.17073171 0.19512195]\n"
     ]
    }
   ],
   "source": [
    "#the most number of neighbors you can have is 8\n",
    "#test\n",
    "x=[.5,.1, .2, .3, .4, .5, .6, .7, .8]\n",
    "def relprob(arr):\n",
    "    N=len(arr)\n",
    "    prob= np.zeros(N)\n",
    "    for i in range(len(arr)):\n",
    "        prob[i]=arr[i]/sum(arr)\n",
    "    return(prob)\n",
    "print(relprob(x))"
   ]
  },
  {
   "cell_type": "code",
   "execution_count": 46,
   "metadata": {},
   "outputs": [
    {
     "name": "stdout",
     "output_type": "stream",
     "text": [
      "0.5\n"
     ]
    }
   ],
   "source": [
    "#This value chooses the outcome basesd on the prbabilities above. if cell is dead and regenerating, 0 percent chance of staying dead. \n",
    "def problife(array):\n",
    "    y=rng.choice(array, p=relprob(array))\n",
    "    return(y)\n",
    "print(problife(x))"
   ]
  },
  {
   "cell_type": "code",
   "execution_count": 49,
   "metadata": {},
   "outputs": [
    {
     "name": "stdout",
     "output_type": "stream",
     "text": [
      "[[0.0, 0.5319343101449742, 0.2056532631097715, 0.7874073350067942, 0.7783783736811863, 0.019131731470373947, 0.3835276610460292, 0.0, 0.179505465813669], 7]\n"
     ]
    }
   ],
   "source": [
    "#print(plotlattice(randomfit(5,5,.6)))\n",
    "def eveneighborsSum(lattice, i, j):\n",
    "    N= len(lattice)\n",
    "    M= len(lattice[0])\n",
    "    pot=lattice[i][j]\n",
    "    n=0\n",
    "    p= [lattice[i][j], lattice[(i+1) % N][j], lattice[i][(j+1) % M], lattice[(i-1) % N][j], lattice[i][(j-1) % M], lattice[(i+1) % N][(j+1) % M],lattice[(i+1) % N][(j-1) % M], lattice[(i-1) % N][(j-1) % M],lattice[(i-1) % N][(j+1) % M]]\n",
    "    for h in range(1,9): \n",
    "        if p[h]>0:\n",
    "            n+=1\n",
    "    return [p, n] \n",
    "print(eveneighborsSum(randomfit(5,5,.5) , 2,2))\n"
   ]
  },
  {
   "cell_type": "code",
   "execution_count": 82,
   "metadata": {},
   "outputs": [
    {
     "name": "stdout",
     "output_type": "stream",
     "text": [
      "[[0.         0.         0.         0.         0.        ]\n",
      " [0.57069751 0.65898593 0.13054226 0.         0.19633294]\n",
      " [0.96634916 0.25913436 0.18608312 0.99277996 0.        ]\n",
      " [0.         0.         0.81523386 0.0265673  0.        ]\n",
      " [0.         0.87527135 0.         0.812172   0.        ]]\n",
      "0\n"
     ]
    }
   ],
   "source": [
    "def eveLifeOne(lattice, x, y):\n",
    "    tree=lattice\n",
    "    if tree[x][y] > 0  and  eveneighborsSum(tree, x, y)[1]<2 :\n",
    "        #print('cell dies by underpopulation')\n",
    "        return 0\n",
    "    \n",
    "    elif tree[x][y] > 0  and eveneighborsSum(tree, x, y)[1]> 3:\n",
    "        #print('cell dies by overpopulation')\n",
    "        probfii= problife(eveneighborsSum(lattice,x,y)[0])\n",
    "        if tree[x][y]== probfii:\n",
    "            return 0 #tree[x][y]\n",
    "        elif tree[x][y]!= probfii:\n",
    "            return 0\n",
    "       \n",
    "    elif tree[x][y] == 0 and eveneighborsSum(tree, x, y)[1]>=3:\n",
    "        probfit=problife(eveneighborsSum(lattice,x,y)[0])\n",
    "        return probfit\n",
    "    \n",
    "    else:\n",
    "        #print('nothing')\n",
    "        return tree[x][y]\n",
    "\n",
    "#print(randomfit(5,5,.5))\n",
    "zz=randomfit(5,5,.5)\n",
    "print(zz)\n",
    "print(eveLifeOne(zz , 1,2))"
   ]
  },
  {
   "cell_type": "code",
   "execution_count": 83,
   "metadata": {},
   "outputs": [
    {
     "name": "stdout",
     "output_type": "stream",
     "text": [
      "[[0.57069751 0.57069751 0.65898593 0.13054226 0.57069751]\n",
      " [0.         0.         0.         0.13054226 0.19633294]\n",
      " [0.         0.         0.         0.         0.99277996]\n",
      " [0.96634916 0.87527135 0.         0.         0.812172  ]\n",
      " [0.         0.         0.812172   0.812172   0.        ]]\n"
     ]
    }
   ],
   "source": [
    "def evemultiLife(lattice):\n",
    "    #print(lattice)\n",
    "    #print( plotlattice(harvest))\n",
    "    #print('I am running this')\n",
    "    N= len(lattice)\n",
    "    M= len(lattice[0])\n",
    "    tree=lattice \n",
    "    newtree= np.zeros((N,M))\n",
    "    for i in range(N):\n",
    "        for j in range(M):\n",
    "            newtree[i][j]=eveLifeOne(tree, i, j)#we will just build a new one not change the old one. \n",
    "            #print(i, j , LifeOne(tree, i, j))\n",
    "    #print( plotlattice(newtree))\n",
    "    return(newtree)\n",
    "\n",
    "print(evemultiLife(zz))"
   ]
  },
  {
   "cell_type": "code",
   "execution_count": 84,
   "metadata": {},
   "outputs": [
    {
     "name": "stdout",
     "output_type": "stream",
     "text": [
      "[7.35829856 6.11033627 7.19946907 7.1037586  8.23119185]\n",
      "Pop\n",
      "[15. 13. 14. 13. 11.]\n",
      "matrix\n",
      "[[[0.39262399 0.81324464 0.         0.09751652 0.83181161]\n",
      "  [0.         0.         0.76222906 0.         0.67069163]\n",
      "  [0.41303649 0.         0.08197448 0.         0.76581307]\n",
      "  [0.25180292 0.4646838  0.22572682 0.33590331 0.        ]\n",
      "  [0.35174053 0.         0.         0.         0.89949969]]\n",
      "\n",
      " [[0.         0.81324464 0.81324464 0.         0.        ]\n",
      "  [0.81324464 0.39262399 0.76222906 0.83181161 0.        ]\n",
      "  [0.         0.25180292 0.         0.33590331 0.        ]\n",
      "  [0.         0.         0.22572682 0.         0.33590331]\n",
      "  [0.         0.39262399 0.81324464 0.83181161 0.        ]]\n",
      "\n",
      " [[0.39262399 0.         0.         0.81324464 0.81324464]\n",
      "  [0.81324464 0.         0.         0.83181161 0.81324464]\n",
      "  [0.81324464 0.         0.83181161 0.         0.83181161]\n",
      "  [0.39262399 0.39262399 0.         0.83181161 0.33590331]\n",
      "  [0.33590331 0.         0.         0.         0.        ]]\n",
      "\n",
      " [[0.         0.39262399 0.         0.81324464 0.        ]\n",
      "  [0.         0.83181161 0.83181161 0.         0.        ]\n",
      "  [0.         0.81324464 0.83181161 0.83181161 0.        ]\n",
      "  [0.         0.         0.39262399 0.83181161 0.        ]\n",
      "  [0.         0.33590331 0.39262399 0.83181161 0.39262399]]\n",
      "\n",
      " [[0.83181161 0.         0.33590331 0.         0.81324464]\n",
      "  [0.81324464 0.         0.         0.81324464 0.        ]\n",
      "  [0.         0.         0.         0.         0.        ]\n",
      "  [0.33590331 0.83181161 0.         0.         0.83181161]\n",
      "  [0.39262399 0.33590331 0.         0.         0.39262399]]]\n"
     ]
    }
   ],
   "source": [
    "new=randomfit(5,5,.5)\n",
    "#print('new')\n",
    "#print(new)\n",
    "#print('once')\n",
    "#print(multiLife(lattice))\n",
    "def plotty(lattice, it):\n",
    "    fig, ax = plt.subplots()\n",
    "    im = ax.imshow(lattice)\n",
    "    fig.tight_layout()\n",
    "    name = 'mylifeplot' + str(it) +'.jpg'\n",
    "    plt.savefig(name)\n",
    "\n",
    "def evesomuchlife(lattice, reps):\n",
    "    N= len(lattice)\n",
    "    M= len(lattice[0])\n",
    "    E= np.zeros(reps)\n",
    "    Pop=np.zeros(reps)\n",
    "    plotty(lattice, 0)\n",
    "    lifes= np.zeros((reps, N, M))\n",
    "    lifes[0]=(lattice)\n",
    "    E[0]= Maggy(lattice)\n",
    "    Pop[0]= Population(lattice)\n",
    "    for i in range(1, reps):\n",
    "        lattice=(evemultiLife(lattice))\n",
    "        lifes[i]=lattice\n",
    "        E[i]=Maggy(lattice)\n",
    "        Pop[i]= Population(lattice)\n",
    "        plotty(0,i)         \n",
    "    return(E, Pop,  lifes)\n",
    "\n",
    "\n",
    "print(evesomuchlife(new, 5) [0]) \n",
    "print('Pop')\n",
    "print(evesomuchlife(new, 5) [1])\n",
    "print('matrix')\n",
    "print(evesomuchlife(new, 5) [2]) "
   ]
  },
  {
   "cell_type": "code",
   "execution_count": 85,
   "metadata": {},
   "outputs": [
    {
     "name": "stdout",
     "output_type": "stream",
     "text": [
      "i am solid\n"
     ]
    },
    {
     "data": {
      "image/png": "[encoded data removed]",
      "text/plain": [
       "<Figure size 432x288 with 1 Axes>"
      ]
     },
     "metadata": {
      "needs_background": "light"
     },
     "output_type": "display_data"
    }
   ],
   "source": [
    "f=randomlattice(99,99,.2)\n",
    "fig = plt.figure()\n",
    "solid=evesomuchlife(f, 20)\n",
    "print('i am solid')\n",
    "x=solid[1] \n",
    "y=np.arange(20)\n",
    "ax = fig.add_subplot(111)\n",
    "ax.plot( y, x, 'k-')\n",
    "ax.set_title('Population vs Time')\n",
    "ax.set_xlabel('Time')\n",
    "ax.set_ylabel('Population')\n",
    "plt.show()"
   ]
  },
  {
   "cell_type": "code",
   "execution_count": 86,
   "metadata": {},
   "outputs": [
    {
     "name": "stdout",
     "output_type": "stream",
     "text": [
      "i am solid\n"
     ]
    },
    {
     "data": {
      "image/png": "[encoded data removed]",
      "text/plain": [
       "<Figure size 432x288 with 1 Axes>"
      ]
     },
     "metadata": {
      "needs_background": "light"
     },
     "output_type": "display_data"
    }
   ],
   "source": [
    "f=randomlattice(99,99,.1)\n",
    "fig = plt.figure()\n",
    "solid=evesomuchlife(f, 50)\n",
    "print('i am solid')\n",
    "x=solid[1] \n",
    "y=np.arange(50)\n",
    "ax = fig.add_subplot(111)\n",
    "ax.plot( y, x, 'k-')\n",
    "ax.set_title('Population vs Time')\n",
    "ax.set_xlabel('Time')\n",
    "ax.set_ylabel('Population')\n",
    "plt.show()"
   ]
  },
  {
   "cell_type": "code",
   "execution_count": 87,
   "metadata": {},
   "outputs": [
    {
     "name": "stdout",
     "output_type": "stream",
     "text": [
      "i am solid\n"
     ]
    },
    {
     "data": {
      "image/png": "[encoded data removed]",
      "text/plain": [
       "<Figure size 432x288 with 1 Axes>"
      ]
     },
     "metadata": {
      "needs_background": "light"
     },
     "output_type": "display_data"
    }
   ],
   "source": [
    "f=randomlattice(99,99,.8)\n",
    "fig = plt.figure()\n",
    "solid=evesomuchlife(f, 20)\n",
    "print('i am solid')\n",
    "x=solid[1] \n",
    "y=np.arange(20)\n",
    "ax = fig.add_subplot(111)\n",
    "ax.plot( y, x, 'k-')\n",
    "ax.set_title('Population vs Time')\n",
    "ax.set_xlabel('Time')\n",
    "ax.set_ylabel('Population')\n",
    "plt.show()"
   ]
  },
  {
   "cell_type": "code",
   "execution_count": 88,
   "metadata": {},
   "outputs": [
    {
     "name": "stdout",
     "output_type": "stream",
     "text": [
      "i am solid\n"
     ]
    },
    {
     "data": {
      "image/png": "[encoded data removed]",
      "text/plain": [
       "<Figure size 432x288 with 1 Axes>"
      ]
     },
     "metadata": {
      "needs_background": "light"
     },
     "output_type": "display_data"
    }
   ],
   "source": [
    "f=randomlattice(99,99,.5)\n",
    "fig = plt.figure()\n",
    "solid=evesomuchlife(f, 20)\n",
    "print('i am solid')\n",
    "x=solid[1] \n",
    "y=np.arange(20)\n",
    "ax = fig.add_subplot(111)\n",
    "ax.plot( y, x, 'k-')\n",
    "ax.set_title('Population vs Time')\n",
    "ax.set_xlabel('Time')\n",
    "ax.set_ylabel('Population')\n",
    "plt.show()"
   ]
  },
  {
   "cell_type": "code",
   "execution_count": 89,
   "metadata": {},
   "outputs": [
    {
     "name": "stdout",
     "output_type": "stream",
     "text": [
      "i am solid\n"
     ]
    },
    {
     "data": {
      "image/png": "[encoded data removed]",
      "text/plain": [
       "<Figure size 432x288 with 1 Axes>"
      ]
     },
     "metadata": {
      "needs_background": "light"
     },
     "output_type": "display_data"
    }
   ],
   "source": [
    "f=randomlattice(99,99,.9)\n",
    "fig = plt.figure()\n",
    "solid=evesomuchlife(f, 20)\n",
    "print('i am solid')\n",
    "x=solid[1] \n",
    "y=np.arange(20)\n",
    "ax = fig.add_subplot(111)\n",
    "ax.plot( y, x, 'k-')\n",
    "ax.set_title('Population vs Time')\n",
    "ax.set_xlabel('Time')\n",
    "ax.set_ylabel('Population')\n",
    "plt.show()"
   ]
  },
  {
   "cell_type": "code",
   "execution_count": null,
   "metadata": {},
   "outputs": [],
   "source": []
  }
 ],
 "metadata": {
  "kernelspec": {
   "display_name": "Python 3",
   "language": "python",
   "name": "python3"
  },
  "language_info": {
   "codemirror_mode": {
    "name": "ipython",
    "version": 3
   },
   "file_extension": ".py",
   "mimetype": "text/x-python",
   "name": "python",
   "nbconvert_exporter": "python",
   "pygments_lexer": "ipython3",
   "version": "3.7.3"
  }
 },
 "nbformat": 4,
 "nbformat_minor": 2
}
