{
 "cells": [
  {
   "cell_type": "markdown",
   "metadata": {},
   "source": [
    "1.\tMake a 2D array (matrix) \n",
    "\n",
    "1.\tWill fill with 0s and 1s (0= dead, 1= alive)\n",
    "1.   Want method to set initial starting position. \n",
    "1.  Save matrices with known stable initial position. \n",
    "1.  Have ways to fill random matrix at different % alive. (should just be a small change from ising model)\n",
    "1.  Need to impose infinite boundaries- wrap the array\n",
    "1.  Write a function that counts up the population alive \n",
    "1.  Write function that tells me how many neighboring cells are alive\n",
    "1.  From this write flipping function\n",
    "1.  Only look at cells that didn’t change previous time and who’s neighbors didn’t change \n",
    "1.  Flip cells according to the rules of life (do this once?)\n",
    "1.  Write a function to run this T number of times. \n",
    "1.  Graph the change in population over iterations. \n",
    "1.  Will this reach an equilibrium? \n",
    "1.  Graph grid as it changes, save them some way to make an animation. \n"
   ]
  },
  {
   "cell_type": "code",
   "execution_count": 1,
   "metadata": {},
   "outputs": [],
   "source": [
    "# Import the usual numpy and matplotlib libraries for numerical operations and plotting\n",
    "import numpy as np\n",
    "import matplotlib.pyplot as plt\n",
    "from numpy import random as rng"
   ]
  },
  {
   "cell_type": "markdown",
   "metadata": {},
   "source": [
    "### Behind the scenes work:"
   ]
  },
  {
   "cell_type": "code",
   "execution_count": 4,
   "metadata": {},
   "outputs": [],
   "source": [
    "def randomlattice(N, M,Lp):\n",
    "    return rng.choice((0, 1), (N, M), p=[1-Lp, Lp])\n",
    "#print(randomlattice(5,5,.5))"
   ]
  },
  {
   "cell_type": "markdown",
   "metadata": {},
   "source": [
    "Now I need to figure out a way how to set a matrix with a certain level of life. "
   ]
  },
  {
   "cell_type": "code",
   "execution_count": 7,
   "metadata": {},
   "outputs": [
    {
     "name": "stdout",
     "output_type": "stream",
     "text": [
      "11\n"
     ]
    }
   ],
   "source": [
    "def Maggy(lattice):#is this the sum of every particle in the lattice \n",
    "    N= len(lattice)\n",
    "    M= len(lattice[0])\n",
    "    total=0\n",
    "    for i in range(N):\n",
    "        for j in range(M):\n",
    "            magnt=lattice[i][j]\n",
    "            total+= magnt     \n",
    "    return total #Returns M\n",
    "\n",
    "print(Maggy(harvest))"
   ]
  },
  {
   "cell_type": "code",
   "execution_count": 8,
   "metadata": {},
   "outputs": [
    {
     "name": "stdout",
     "output_type": "stream",
     "text": [
      "[3, array([[1, 0, 0, 1, 0],\n",
      "       [1, 1, 0, 0, 1],\n",
      "       [1, 0, 0, 1, 1],\n",
      "       [0, 1, 0, 0, 1],\n",
      "       [0, 0, 0, 1, 0]]), 0]\n"
     ]
    }
   ],
   "source": [
    "def neighborsSum(lattice, i, j):\n",
    "    N= len(lattice)\n",
    "    M= len(lattice[0])\n",
    "    pot=lattice[i][j]\n",
    "    summy= np.sum([lattice[(i+1) % N][j], lattice[i][(j+1) % M], lattice[(i-1) % N][j], lattice[i][(j-1) % M], lattice[(i+1) % N][(j+1) % M],lattice[(i+1) % N][(j-1) % M], lattice[(i-1) % N][(j-1) % M],lattice[(i-1) % N][(j+1) % M]] )\n",
    "    return [summy, lattice, pot] \n",
    "                  \n",
    "print(neighborsSum(harvest, 2,2))\n"
   ]
  },
  {
   "cell_type": "code",
   "execution_count": 12,
   "metadata": {},
   "outputs": [],
   "source": [
    "def plotty(lattice, it, name):\n",
    "    fig, ax = plt.subplots()\n",
    "    im = ax.imshow(lattice)\n",
    "    fig.tight_layout()\n",
    "    name =  name + str(it) +'.jpg'\n",
    "    plt.savefig(name)\n",
    "    plt.close()"
   ]
  },
  {
   "cell_type": "markdown",
   "metadata": {},
   "source": [
    "Next up is going to be a function that flips one cell if the rules tells it to. \n",
    "\n",
    "Any live cell with fewer than two live neighbours dies, as if by underpopulation.\n",
    "Any live cell with two or three live neighbours lives on to the next generation.\n",
    "Any live cell with more than three live neighbours dies, as if by overpopulation.\n",
    "Any dead cell with exactly three live neighbours becomes a live cell, as if by reproduction.\n",
    "    1. to do incorperate the diagonals. (Done)\n",
    "    2. "
   ]
  },
  {
   "cell_type": "markdown",
   "metadata": {},
   "source": [
    "### I am now making the system for rules:"
   ]
  },
  {
   "cell_type": "code",
   "execution_count": 9,
   "metadata": {},
   "outputs": [],
   "source": [
    "\n",
    "def LifeOne(lattice, x, y):\n",
    "    tree=lattice\n",
    "    if tree[x][y] == 1 and  neighborsSum(tree, x, y)[0]<2 :\n",
    "        #print('cell dies by underpopulation')\n",
    "        return 0    \n",
    "    elif tree[x][y] == 1 and neighborsSum(tree, x, y)[0]> 3:\n",
    "        #print('cell dies by overpopulation')\n",
    "        return 0 \n",
    "       \n",
    "    elif tree[x][y] == 0 and neighborsSum(tree, x, y)[0]>=3:\n",
    "        #print('regrowth')\n",
    "        return 1\n",
    "    else:\n",
    "        #print('nothing')\n",
    "        return tree[x][y]\n",
    "\n",
    "#print(LifeOne(harvest, 2,2))\n",
    "        "
   ]
  },
  {
   "cell_type": "markdown",
   "metadata": {},
   "source": [
    "Now I need something that does this for every position.\n",
    "Oh this is hard because I want this to work for every point in the og lattice at the same time. "
   ]
  },
  {
   "cell_type": "code",
   "execution_count": 11,
   "metadata": {},
   "outputs": [],
   "source": [
    "def multiLife(lattice):\n",
    "    N= len(lattice)\n",
    "    M= len(lattice[0])\n",
    "    tree=lattice \n",
    "    newtree= np.zeros((N,M))\n",
    "    for i in range(N):\n",
    "        for j in range(M):\n",
    "            newtree[i][j]=LifeOne(tree, i, j)#we will just build a new one not change the old one. \n",
    "            \n",
    "    return(newtree)\n",
    "\n",
    "#print(multiLife(harvest))\n",
    "\n",
    "\n",
    "    "
   ]
  },
  {
   "cell_type": "code",
   "execution_count": 15,
   "metadata": {},
   "outputs": [],
   "source": [
    "hahaclintondix=randomlattice(50,50,.5)\n",
    "def somuchlife(lattice, reps, name, saveimages= False):\n",
    "    N= len(lattice)\n",
    "    M= len(lattice[0])\n",
    "    E= np.zeros(reps)\n",
    "    lifes= np.zeros((reps, N, M))\n",
    "    lifes[0]=(lattice)\n",
    "    E[0]= Maggy(lattice)\n",
    "    for i in range(1, reps):\n",
    "        lattice = (multiLife(lattice))\n",
    "        lifes[i] = lattice\n",
    "        E[i]=Maggy(lattice)\n",
    "        if saveimages: \n",
    "            plotty(lattice, i, name) \n",
    "    return(E, lifes)\n",
    "                 \n",
    "#print(somuchlife(hahaclintondix, 6, 'blank' )[0])    \n"
   ]
  },
  {
   "cell_type": "code",
   "execution_count": 27,
   "metadata": {},
   "outputs": [],
   "source": [
    "def plotpop( pop,  reps, name , dim=100):\n",
    "    f=randomlattice(dim, dim, pop)\n",
    "    #f=randomlattice(100, 100, pop)\n",
    "    fig=plt.figure()\n",
    "    solid=somuchlife(f, reps, name)\n",
    "    x=solid[0]\n",
    "    y=np.arange(reps)\n",
    "    ax=fig.add_subplot(111)\n",
    "    ax.plot(y,x,'k-')\n",
    "    ax.set_xlabel('Time')\n",
    "    ax.set_ylabel('Population')\n",
    "    ax.set_title('Population Over Time '+ name )\n",
    "    fig.tight_layout()\n",
    "    plt.savefig(name)\n",
    "    plt.show()\n",
    "\n",
    "#eveplotpop(.5, 40, 'eveFive')"
   ]
  },
  {
   "cell_type": "code",
   "execution_count": null,
   "metadata": {},
   "outputs": [],
   "source": [
    "plotpop(.1, 80, 'One')\n",
    "plotpop(.9, 80, 'nine')\n",
    "plotpop(.2, 80, 'two')\n",
    "plotpop(.3, 80, 'three')\n",
    "plotpop(.4, 80, 'four')\n",
    "plotpop(.5, 80, 'five')\n",
    "plotpop(.6, 80, 'six')\n",
    "plotpop(.7, 80, 'seven')\n",
    "plotpop(.8, 80, 'eight')\n",
    "plotpop(.95, 80, 'ninefive')\n",
    "plotpop(.98, 80, 'nineeight')"
   ]
  },
  {
   "cell_type": "markdown",
   "metadata": {},
   "source": [
    "### Future things to look at: \n",
    "1. Is there a common equilibrium point\n",
    "1. Is there a correlation in the rate it takes to reach equilibirum- would have to think of how to define that exactly, though there definitly is. \n",
    "1. What happens when you start a population \"at equilibrium\""
   ]
  },
  {
   "cell_type": "markdown",
   "metadata": {},
   "source": [
    "Lets try some new code. Timme to make the code for taking an array of percentages, dividing by the sum of them and returning the array of the percentags \n",
    "\n",
    "Wait first I need to make a matrix with randomo numbers from 0 to 1 "
   ]
  },
  {
   "cell_type": "markdown",
   "metadata": {},
   "source": [
    "### Behind the Scenes Evolution"
   ]
  },
  {
   "cell_type": "code",
   "execution_count": 18,
   "metadata": {},
   "outputs": [],
   "source": [
    "#mylat= randomlattice(5,5,.5)\n",
    "def randomfit(N,M,Lp):\n",
    "    life=randomlattice(N,M,Lp)\n",
    "    total=np.zeros((N, M))\n",
    "    randoms=rng.random_sample((N,M))\n",
    "    for i in range(N):\n",
    "        for j in range(M):\n",
    "            total[i][j] =life[i][j]*randoms[i][j]\n",
    "    return(total)\n",
    "\n",
    "#print(randomfit(5,5,.5))"
   ]
  },
  {
   "cell_type": "code",
   "execution_count": 19,
   "metadata": {},
   "outputs": [],
   "source": [
    "def Population(lattice):\n",
    "    N= len(lattice)\n",
    "    M= len(lattice[0])\n",
    "    E=0\n",
    "    for i in range(N):\n",
    "        for j in range(M):\n",
    "            if lattice[i][j]>0:\n",
    "                E+=1\n",
    "    return E"
   ]
  },
  {
   "cell_type": "markdown",
   "metadata": {},
   "source": [
    "So I have a new matrix now. I will next need to make the thing that adds up the probability and makes the new probability "
   ]
  },
  {
   "cell_type": "code",
   "execution_count": 20,
   "metadata": {},
   "outputs": [],
   "source": [
    "#the most number of neighbors you can have is 8\n",
    "#test\n",
    "#x=[.5,.1, .2, .3, .4, .5, .6, .7, .8]\n",
    "def relprob(arr):\n",
    "    N=len(arr)\n",
    "    prob= np.zeros(N)\n",
    "    for i in range(len(arr)):\n",
    "        prob[i]=arr[i]/sum(arr)\n",
    "    return(prob)\n",
    "#print(relprob(x))"
   ]
  },
  {
   "cell_type": "code",
   "execution_count": 22,
   "metadata": {},
   "outputs": [],
   "source": [
    "#This value chooses the outcome basesd on the prbabilities above. if cell is dead and regenerating, 0 percent chance of staying dead. \n",
    "def problife(array):\n",
    "    y=rng.choice(array, p=relprob(array))\n",
    "    return(y)\n",
    "#print(problife(x))"
   ]
  },
  {
   "cell_type": "code",
   "execution_count": 23,
   "metadata": {},
   "outputs": [],
   "source": [
    "#print(plotlattice(randomfit(5,5,.6)))\n",
    "def eveneighborsSum(lattice, i, j):\n",
    "    N= len(lattice)\n",
    "    M= len(lattice[0])\n",
    "    pot=lattice[i][j]\n",
    "    n=0\n",
    "    p= [lattice[i][j], lattice[(i+1) % N][j], lattice[i][(j+1) % M], lattice[(i-1) % N][j], lattice[i][(j-1) % M], lattice[(i+1) % N][(j+1) % M],lattice[(i+1) % N][(j-1) % M], lattice[(i-1) % N][(j-1) % M],lattice[(i-1) % N][(j+1) % M]]\n",
    "    for h in range(1,9): \n",
    "        if p[h]>0:\n",
    "            n+=1\n",
    "    return [p, n] \n",
    "#print(eveneighborsSum(randomfit(5,5,.5) , 2,2))\n"
   ]
  },
  {
   "cell_type": "code",
   "execution_count": 24,
   "metadata": {},
   "outputs": [],
   "source": [
    "def eveLifeOne(lattice, x, y):\n",
    "    tree=lattice\n",
    "    if tree[x][y] > 0  and  eveneighborsSum(tree, x, y)[1]<2 :\n",
    "        #print('cell dies by underpopulation')\n",
    "        return 0\n",
    "    elif tree[x][y] > 0  and eveneighborsSum(tree, x, y)[1]> 3:\n",
    "        #print('cell dies by overpopulation')\n",
    "        probfii = problife(eveneighborsSum(lattice,x,y)[0])\n",
    "        if tree[x][y]== probfii:\n",
    "            return 0 #tree[x][y]\n",
    "        elif tree[x][y]!= probfii:\n",
    "            return 0\n",
    "       \n",
    "    elif tree[x][y] == 0 and eveneighborsSum(tree, x, y)[1]>=3:\n",
    "        probfit=problife(eveneighborsSum(lattice,x,y)[0])\n",
    "        return probfit\n",
    "    else:\n",
    "        #print('nothing')\n",
    "        return tree[x][y]\n",
    "\n",
    "#print(randomfit(5,5,.5))\n",
    "#zz=randomfit(5,5,.5)\n",
    "#print(zz)\n",
    "#print(eveLifeOne(zz , 1,2))"
   ]
  },
  {
   "cell_type": "code",
   "execution_count": 25,
   "metadata": {},
   "outputs": [],
   "source": [
    "def evemultiLife(lattice):\n",
    "    #print(lattice)\n",
    "    #print( plotlattice(harvest))\n",
    "    #print('I am running this')\n",
    "    N= len(lattice)\n",
    "    M= len(lattice[0])\n",
    "    tree=lattice \n",
    "    newtree= np.zeros((N,M))\n",
    "    for i in range(N):\n",
    "        for j in range(M):\n",
    "            newtree[i][j]=eveLifeOne(tree, i, j)#we will just build a new one not change the old one. \n",
    "            #print(i, j , LifeOne(tree, i, j))\n",
    "    #print( plotlattice(newtree))\n",
    "    return(newtree)\n",
    "\n",
    "#print(evemultiLife(zz))\n",
    "#print(plotty(evemultiLife(zz), 0, 'EVETEST'))"
   ]
  },
  {
   "cell_type": "code",
   "execution_count": 26,
   "metadata": {},
   "outputs": [],
   "source": [
    "#troupe=randomfit(6,6,.5)\n",
    "def evesomuchlife(lattice, reps, name, saveimages = False):\n",
    "    N= len(lattice)\n",
    "    M= len(lattice[0])\n",
    "    E= np.zeros(reps)\n",
    "    Pop=np.zeros(reps)\n",
    "    if saveimages: \n",
    "        plotty(lattice, 0, name)\n",
    "    lifes= np.zeros((reps, N, M))\n",
    "    lifes[0]=(lattice)\n",
    "    E[0]= Maggy(lattice)\n",
    "    Pop[0]= Population(lattice)\n",
    "    for i in range(1, reps):\n",
    "        lattice=(evemultiLife(lattice))\n",
    "        lifes[i]=lattice\n",
    "        E[i]=Maggy(lattice)\n",
    "        Pop[i]= Population(lattice)\n",
    "        if saveimages:\n",
    "            plotty(lattice, i, name)         \n",
    "    return(E, Pop,  lifes)\n",
    "\n",
    "#print(evesomuchlife(troupe, 5, 'TESTTESTTEST')) \n",
    "#print(plotty( new, 0,  \"2ndplottyTest\"))\n",
    "#print(evesomuchlife(new, 5) [1])\n",
    "#print('matrix')\n",
    "#print(evesomuchlife(new, 5) [2]) "
   ]
  },
  {
   "cell_type": "code",
   "execution_count": 29,
   "metadata": {},
   "outputs": [],
   "source": [
    "def eveplotpop( pop,  reps, name, dim= 100, saveimages= False):\n",
    "    f=randomfit(dim, dim,pop)\n",
    "    #f=randomlattice(100, 100, pop)\n",
    "    fig=plt.figure()\n",
    "    solid=evesomuchlife(f, reps, name)\n",
    "    x=solid[1]\n",
    "    y=np.arange(reps)\n",
    "    ax=fig.add_subplot(111)\n",
    "    ax.plot(y,x,'k-')\n",
    "    ax.set_xlabel('Time')\n",
    "    ax.set_ylabel('Population')\n",
    "    ax.set_title(\"Population Over Time\"+ name)\n",
    "    fig.tight_layout()\n",
    "    if saveimages:\n",
    "        plt.savefig(name)\n",
    "    plt.show()\n",
    "\n",
    "#eveplotpop(.5, 40, 'eveFive')"
   ]
  },
  {
   "cell_type": "code",
   "execution_count": null,
   "metadata": {
    "scrolled": false
   },
   "outputs": [],
   "source": [
    "eveplotpop(.1, 90, 'eveOneLONGER')\n",
    "eveplotpop(.2, 90, 'eveTwoLONGER')\n",
    "eveplotpop(.3, 90, 'eveThreeLONGER')\n",
    "eveplotpop(.4, 90, 'eveFourLONGER')\n",
    "eveplotpop(.5, 90, 'eveFiveLONGER')\n",
    "eveplotpop(.6, 90, 'eveSixLONGER')\n",
    "eveplotpop(.7, 90, 'eveSevenLONGER')\n",
    "eveplotpop(.8, 90, 'eveEightLONGER')\n",
    "eveplotpop(.9, 90, 'eveNineLONGER')\n",
    "eveplotpop(.95, 90, 'eveNineFiveLONGER')\n",
    "eveplotpop(.98, 90, 'eveNineEightLONGER')"
   ]
  },
  {
   "cell_type": "code",
   "execution_count": 30,
   "metadata": {},
   "outputs": [],
   "source": [
    "def eveplotfit(pop,  reps, name , dim=100, saveimages= False):\n",
    "    f=randomfit(dim, dim,pop)\n",
    "    fig=plt.figure()\n",
    "    solid=evesomuchlife(f, reps, name)\n",
    "    x=solid[0]\n",
    "    y=np.arange(reps)\n",
    "    ax=fig.add_subplot(111)\n",
    "    ax.plot(y,x,'k-')\n",
    "    ax.set_xlabel('Time')\n",
    "    ax.set_ylabel('Total Fitness')\n",
    "    fig.tight_layout()\n",
    "    if saveimages: \n",
    "        plt.savefig(name)\n",
    "    plt.show()\n",
    "\n",
    "#print(eveplotfit(.1, 100, \"fitness test\" ))\n",
    "\n"
   ]
  },
  {
   "cell_type": "code",
   "execution_count": 31,
   "metadata": {},
   "outputs": [],
   "source": [
    "def evesomuchlifeEDIT(lattice, reps, name): #won't return lattice just average fit insetead\n",
    "    N= len(lattice)\n",
    "    M= len(lattice[0])\n",
    "    E= np.zeros(reps)\n",
    "    Pop=np.zeros(reps)\n",
    "    avgFIT=np.zeros(reps)\n",
    "    lifes= np.zeros((reps, N, M))\n",
    "    lifes[0]=(lattice)\n",
    "    E[0]= Maggy(lattice)\n",
    "    Pop[0]= Population(lattice)\n",
    "    for i in range(1, reps):\n",
    "        lattice=(evemultiLife(lattice))\n",
    "        lifes[i]=lattice\n",
    "        E[i]=Maggy(lattice)\n",
    "        Pop[i]= Population(lattice)\n",
    "        avgFIT[i]= E[i] / Pop[i]         \n",
    "    return(E, Pop,  avgFIT)\n",
    "#print(evesomuchlifeEDIT(randomfit(100,100,.1) ,10 , 'fit test')[2])"
   ]
  },
  {
   "cell_type": "code",
   "execution_count": 32,
   "metadata": {},
   "outputs": [],
   "source": [
    "def eveplotfitEDIT(pop,  reps, name, dim=100, saveimages=False):\n",
    "    f=randomfit(dim , dim,pop)\n",
    "    #f=randomlattice(100, 100, pop)\n",
    "    fig=plt.figure()\n",
    "    solid=evesomuchlifeEDIT(f, reps, name)\n",
    "    x=solid[2]\n",
    "    y=np.arange(reps)\n",
    "    ax=fig.add_subplot(111)\n",
    "    ax.plot(y,x,'k-')\n",
    "    ax.set_xlabel('Time')\n",
    "    ax.set_ylabel('Total Fitness')\n",
    "    fig.tight_layout()\n",
    "    if saveimages: \n",
    "        plt.savefig(name)\n",
    "    plt.show()\n",
    "\n",
    "#print(eveplotfitEDIT(.1, 100, \"fitness test\" ))\n",
    "\n"
   ]
  },
  {
   "cell_type": "code",
   "execution_count": null,
   "metadata": {},
   "outputs": [],
   "source": [
    "print(eveplotfitEDIT(.4, 100, \"fitness test\" ))\n",
    "print(eveplotfitEDIT(.4, 100, \"fitness test\" ))"
   ]
  },
  {
   "cell_type": "code",
   "execution_count": null,
   "metadata": {},
   "outputs": [],
   "source": [
    "#I want the average\n",
    "#I want what the average flattens off to over time\n",
    "#I want the the average as a function of time \n",
    "\n",
    "\n",
    "          \n"
   ]
  },
  {
   "cell_type": "code",
   "execution_count": 33,
   "metadata": {},
   "outputs": [],
   "source": [
    "def eveAboveAverage(lattice, top, name):\n",
    "    solid=evesomuchlife(lattice, top, name)\n",
    "    x=solid[1]\n",
    "    early=np.zeros(top)\n",
    "    for i in range(top):\n",
    "        region = top - i\n",
    "        avg = sum(x[i:top + 1]) / region\n",
    "        early[i] = avg\n",
    "    return(early)\n",
    "\n",
    "def evedifference(pop, top, name , tol, dim=100):\n",
    "    lattice = randomfit(dim , dim,pop)\n",
    "    x = eveAboveAverage(lattice, top, name)\n",
    "    diff = []\n",
    "    numsteps = top - 1\n",
    "    for i in range(numsteps):\n",
    "        diff.append(x[i+1] - x[i])\n",
    "    equi=0\n",
    "    for j in range(len(diff)):\n",
    "        if abs(diff[j]) <= tol:\n",
    "            equi = j \n",
    "            avgafter = x[equi]\n",
    "            return (equi , avgafter) \n",
    "#print(evedifference(.5, 100, 'evemoreTests', .5))"
   ]
  },
  {
   "cell_type": "code",
   "execution_count": 34,
   "metadata": {},
   "outputs": [],
   "source": [
    "def AboveAverage(lattice, top, name): #top is the number of iterations- top part of the range. Name is just a string for when I was saving plots.\n",
    "    solid = somuchlife(lattice, top, name)\n",
    "    x = solid[0] #this is the population. array with population after each iteration. \n",
    "    early=np.zeros(top)\n",
    "    for i in range(top):\n",
    "        region = top - i \n",
    "        avg = sum(x[i:top + 1]) / region\n",
    "        early[i] = avg\n",
    "    return(early) #this will be an array of the averages as the start range approaches the top"
   ]
  },
  {
   "cell_type": "code",
   "execution_count": null,
   "metadata": {},
   "outputs": [],
   "source": [
    "#print(AboveAverage(randomlattice(100, 100, .8), 90, 'moreTests'))"
   ]
  },
  {
   "cell_type": "code",
   "execution_count": null,
   "metadata": {},
   "outputs": [],
   "source": [
    "def difference(pop, top, name , tol):\n",
    "    lattice = randomlattice(50, 50, pop)\n",
    "    x = AboveAverage(lattice, top, name)\n",
    "    diff = []\n",
    "    numsteps = top - 1\n",
    "    for i in range(numsteps):\n",
    "        print(i)\n",
    "        diff.append(x[i+1] - x[i])   \n",
    "    equi=0\n",
    "    for j in range(len(diff)):\n",
    "        if abs(diff[j]) <= tol:\n",
    "            equi = j \n",
    "            avgafter = x[equi]\n",
    "            return (equi , avgafter) \n",
    "        \n",
    "     #want to find this when it get close to zero. Will never get to zero. Now want to find the spot when get gets under tolerance.\n",
    "#print(difference(.8, 90, 'moreTests', .5))"
   ]
  },
  {
   "cell_type": "code",
   "execution_count": null,
   "metadata": {},
   "outputs": [],
   "source": [
    "def AvgPlot( top, name, pop):\n",
    "    f = randomlattice(100,100,pop)\n",
    "    avg = AboveAverage(f, top, name)\n",
    "    \n",
    "    fig = plt.figure()\n",
    "    y = np.arange(top)\n",
    "    ax = fig.add_subplot(111)\n",
    "    ax.plot(y, avg,'k-')\n",
    "    ax.set_xlabel('Starting Point')\n",
    "    ax.set_ylabel('Average Population')\n",
    "    fig.tight_layout()\n",
    "    plt.savefig('Average' + name)\n",
    "\n",
    "print(AvgPlot( 90, 'Test_Eight', .8))\n",
    "    \n",
    "    \n",
    "    "
   ]
  },
  {
   "cell_type": "code",
   "execution_count": null,
   "metadata": {},
   "outputs": [],
   "source": [
    "print(AvgPlot( 90, 'Test_Eight', .8))"
   ]
  },
  {
   "cell_type": "code",
   "execution_count": null,
   "metadata": {},
   "outputs": [],
   "source": [
    "#Data Taking\n",
    "print(difference(.1 , 180, 'avg1', .5))"
   ]
  },
  {
   "cell_type": "code",
   "execution_count": null,
   "metadata": {},
   "outputs": [],
   "source": [
    "print(difference(.1 , 180, 'avg1', .5))\n",
    "print(difference(.2 , 180, 'avg2', .5))\n",
    "print(difference(.3 , 180, 'avg3', .5))\n",
    "print(difference(.4 , 180, 'avg4', .5))\n",
    "print(difference(.5 , 180, 'avg5', .5))\n",
    "print(difference(.6 , 180, 'avg6', .5))\n",
    "print(difference(.7 , 180, 'avg7', .5))\n",
    "print(difference(.8 , 180, 'avg8', .5))\n",
    "print(difference(.9 , 180, 'avg9', .5))\n",
    "print(difference(.95 , 180, 'avg95', .5))\n",
    "print(difference(.98 , 180, 'avg98', .5))"
   ]
  },
  {
   "cell_type": "code",
   "execution_count": null,
   "metadata": {},
   "outputs": [],
   "source": [
    "print(difference(.9 , 180, 'avg9', .5))\n",
    "print(difference(.95 , 180, 'avg95', .5))"
   ]
  },
  {
   "cell_type": "code",
   "execution_count": null,
   "metadata": {},
   "outputs": [],
   "source": [
    "print(difference(.1 , 180, 'avg1', .5))\n",
    "print(difference(.1 , 180, 'avg1', .5))"
   ]
  },
  {
   "cell_type": "code",
   "execution_count": null,
   "metadata": {},
   "outputs": [],
   "source": [
    "print(difference(.1 , 180, 'avg1', .5))\n",
    "print(difference(.1 , 180, 'avg1', .5))\n",
    "print(difference(.1 , 180, 'avg1', .5))\n",
    "print(difference(.1 , 180, 'avg1', .5))\n",
    "print(difference(.1 , 180, 'avg1', .5))\n",
    "print(difference(.1 , 180, 'avg1', .5))\n",
    "print(difference(.1 , 180, 'avg1', .5))\n",
    "print(difference(.1 , 180, 'avg1', .5))"
   ]
  },
  {
   "cell_type": "code",
   "execution_count": null,
   "metadata": {},
   "outputs": [],
   "source": [
    "print(difference(.2 , 180, 'avg2', .5))\n",
    "print(difference(.2 , 180, 'avg2', .5))\n",
    "print(difference(.2 , 180, 'avg2', .5))\n",
    "print(difference(.2 , 180, 'avg2', .5))\n",
    "print(difference(.2 , 180, 'avg2', .5))\n",
    "print(difference(.2 , 180, 'avg2', .5))\n",
    "print(difference(.2 , 180, 'avg2', .5))\n",
    "print(difference(.2 , 180, 'avg2', .5))\n",
    "print(difference(.2 , 180, 'avg2', .5))\n",
    "print(difference(.2 , 180, 'avg2', .5))"
   ]
  },
  {
   "cell_type": "code",
   "execution_count": null,
   "metadata": {},
   "outputs": [],
   "source": [
    "print(difference(.3 , 180, 'avg3', .5))\n",
    "print(difference(.3 , 180, 'avg3', .5))\n",
    "print(difference(.3 , 180, 'avg3', .5))\n",
    "print(difference(.3 , 180, 'avg3', .5))\n",
    "print(difference(.3 , 180, 'avg3', .5))\n",
    "print(difference(.3 , 180, 'avg3', .5))\n",
    "print(difference(.3 , 180, 'avg3', .5))\n",
    "print(difference(.3 , 180, 'avg3', .5))\n",
    "print(difference(.3 , 180, 'avg3', .5))\n",
    "print(difference(.3 , 180, 'avg3', .5))"
   ]
  },
  {
   "cell_type": "code",
   "execution_count": null,
   "metadata": {},
   "outputs": [],
   "source": [
    "print(difference(.4 , 180, 'avg4', .5))\n",
    "print(difference(.4 , 180, 'avg4', .5))\n",
    "print(difference(.4 , 180, 'avg4', .5))\n",
    "print(difference(.4 , 180, 'avg4', .5))\n",
    "print(difference(.4 , 180, 'avg4', .5))\n",
    "print(difference(.4 , 180, 'avg4', .5))\n",
    "print(difference(.4 , 180, 'avg4', .5))\n",
    "print(difference(.4 , 180, 'avg4', .5))\n",
    "print(difference(.4 , 180, 'avg4', .5))\n",
    "print(difference(.4 , 180, 'avg4', .5))"
   ]
  },
  {
   "cell_type": "code",
   "execution_count": null,
   "metadata": {},
   "outputs": [],
   "source": [
    "print(difference(.5 , 180, 'avg5', .5))\n",
    "print(difference(.5 , 180, 'avg5', .5))\n",
    "print(difference(.5 , 180, 'avg5', .5))\n",
    "print(difference(.5 , 180, 'avg5', .5))\n",
    "print(difference(.5 , 180, 'avg5', .5))\n",
    "print(difference(.5 , 180, 'avg5', .5))\n",
    "print(difference(.5 , 180, 'avg5', .5))\n",
    "print(difference(.5 , 180, 'avg5', .5))\n",
    "print(difference(.5 , 180, 'avg5', .5))\n",
    "print(difference(.5 , 180, 'avg5', .5))"
   ]
  },
  {
   "cell_type": "code",
   "execution_count": null,
   "metadata": {},
   "outputs": [],
   "source": [
    "print(difference(.6 , 180, 'avg6', .5))\n",
    "print(difference(.6 , 180, 'avg6', .5))\n",
    "print(difference(.6 , 180, 'avg6', .5))\n",
    "print(difference(.6 , 180, 'avg6', .5))\n",
    "print(difference(.6 , 180, 'avg6', .5))\n",
    "print(difference(.6 , 180, 'avg6', .5))\n",
    "print(difference(.6 , 180, 'avg6', .5))\n",
    "print(difference(.6 , 180, 'avg6', .5))\n",
    "print(difference(.6 , 180, 'avg6', .5))\n",
    "print(difference(.6 , 180, 'avg6', .5))"
   ]
  },
  {
   "cell_type": "code",
   "execution_count": null,
   "metadata": {},
   "outputs": [],
   "source": [
    "print(difference(.7 , 180, 'avg7', .5))\n",
    "print(difference(.7 , 180, 'avg7', .5))\n",
    "print(difference(.7 , 180, 'avg7', .5))\n",
    "print(difference(.7 , 180, 'avg7', .5))\n",
    "print(difference(.7 , 180, 'avg7', .5))\n",
    "print(difference(.7 , 180, 'avg7', .5))\n",
    "print(difference(.7 , 180, 'avg7', .5))\n",
    "print(difference(.7 , 180, 'avg7', .5))\n",
    "print(difference(.7 , 180, 'avg7', .5))\n",
    "print(difference(.7 , 180, 'avg7', .5))"
   ]
  },
  {
   "cell_type": "code",
   "execution_count": null,
   "metadata": {},
   "outputs": [],
   "source": [
    "print(difference(.8 , 180, 'avg8', .5))\n",
    "print(difference(.8 , 180, 'avg8', .5))\n",
    "print(difference(.8 , 180, 'avg8', .5))\n",
    "print(difference(.8 , 180, 'avg8', .5))\n",
    "print(difference(.8 , 180, 'avg8', .5))\n",
    "print(difference(.8 , 180, 'avg8', .5))\n",
    "print(difference(.8 , 180, 'avg8', .5))\n",
    "print(difference(.8 , 180, 'avg8', .5))\n",
    "print(difference(.8 , 180, 'avg8', .5))\n",
    "print(difference(.8 , 180, 'avg8', .5))"
   ]
  },
  {
   "cell_type": "code",
   "execution_count": null,
   "metadata": {},
   "outputs": [],
   "source": [
    "print(difference(.9 , 180, 'avg9', .5))\n",
    "print(difference(.9 , 180, 'avg9', .5))\n",
    "print(difference(.9 , 180, 'avg9', .5))\n",
    "print(difference(.9 , 180, 'avg9', .5))\n",
    "print(difference(.9 , 180, 'avg9', .5))\n",
    "print(difference(.9 , 180, 'avg9', .5))\n",
    "print(difference(.9 , 180, 'avg9', .5))\n",
    "print(difference(.9 , 180, 'avg9', .5))\n",
    "print(difference(.9 , 180, 'avg9', .5))\n",
    "print(difference(.9 , 180, 'avg9', .5))"
   ]
  },
  {
   "cell_type": "code",
   "execution_count": null,
   "metadata": {},
   "outputs": [],
   "source": [
    "print(difference(.95 , 180, 'avg95', .5))\n",
    "print(difference(.95 , 180, 'avg95', .5))\n",
    "print(difference(.95 , 180, 'avg95', .5))\n",
    "print(difference(.95 , 180, 'avg95', .5))\n",
    "print(difference(.95 , 180, 'avg95', .5))\n",
    "print(difference(.95 , 180, 'avg95', .5))\n",
    "print(difference(.95 , 180, 'avg95', .5))\n",
    "print(difference(.95 , 180, 'avg95', .5))\n",
    "print(difference(.95 , 180, 'avg95', .5))\n",
    "print(difference(.95 , 180, 'avg95', .5))"
   ]
  },
  {
   "cell_type": "code",
   "execution_count": null,
   "metadata": {},
   "outputs": [],
   "source": [
    "print(difference(.98 , 180, 'avg98', .5))\n",
    "print(difference(.95 , 180, 'avg95', .5))\n",
    "print(difference(.95 , 180, 'avg95', .5))\n",
    "print(difference(.95 , 180, 'avg95', .5))\n",
    "print(difference(.95 , 180, 'avg95', .5))\n",
    "print(difference(.95 , 180, 'avg95', .5))\n",
    "print(difference(.95 , 180, 'avg95', .5))\n",
    "print(difference(.95 , 180, 'avg95', .5))\n",
    "print(difference(.95 , 180, 'avg95', .5))\n",
    "print(difference(.95 , 180, 'avg95', .5))"
   ]
  },
  {
   "cell_type": "code",
   "execution_count": null,
   "metadata": {},
   "outputs": [],
   "source": [
    "print(difference(.98 , 180, 'avg98', .5))\n",
    "print(difference(.98 , 180, 'avg98', .5))\n",
    "print(difference(.98 , 180, 'avg98', .5))\n",
    "print(difference(.98 , 180, 'avg98', .5))\n",
    "print(difference(.98 , 180, 'avg98', .5))\n",
    "print(difference(.98 , 180, 'avg98', .5))\n",
    "print(difference(.98 , 180, 'avg98', .5))\n",
    "print(difference(.98 , 180, 'avg98', .5))\n",
    "print(difference(.98 , 180, 'avg98', .5))\n",
    "print(difference(.98 , 180, 'avg98', .5))"
   ]
  },
  {
   "cell_type": "code",
   "execution_count": null,
   "metadata": {},
   "outputs": [],
   "source": [
    "print(difference(.2 , 180, 'avg1', .5))\n",
    "print(difference(.3 , 180, 'avg1', .5))"
   ]
  },
  {
   "cell_type": "code",
   "execution_count": null,
   "metadata": {},
   "outputs": [],
   "source": [
    "print(AvgPlot( 180, 'Test_Eight', .3))"
   ]
  },
  {
   "cell_type": "code",
   "execution_count": null,
   "metadata": {},
   "outputs": [],
   "source": [
    "plotpop(.3, 180, 'OneBig')"
   ]
  },
  {
   "cell_type": "code",
   "execution_count": null,
   "metadata": {},
   "outputs": [],
   "source": []
  }
 ],
 "metadata": {
  "kernelspec": {
   "display_name": "Python 3",
   "language": "python",
   "name": "python3"
  },
  "language_info": {
   "codemirror_mode": {
    "name": "ipython",
    "version": 3
   },
   "file_extension": ".py",
   "mimetype": "text/x-python",
   "name": "python",
   "nbconvert_exporter": "python",
   "pygments_lexer": "ipython3",
   "version": "3.7.3"
  }
 },
 "nbformat": 4,
 "nbformat_minor": 2
}
